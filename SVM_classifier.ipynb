{
 "cells": [
  {
   "cell_type": "markdown",
   "metadata": {},
   "source": [
    "## Train the SVM classifier"
   ]
  },
  {
   "cell_type": "code",
   "execution_count": 1,
   "metadata": {},
   "outputs": [],
   "source": [
    "import pandas as pd\n",
    "import seaborn as sns\n",
    "import matplotlib.pyplot as plt\n",
    "from sklearn.feature_extraction.text import TfidfVectorizer\n",
    "from sklearn import svm\n",
    "from sklearn.model_selection import train_test_split\n",
    "from sklearn.metrics import classification_report, confusion_matrix, ConfusionMatrixDisplay"
   ]
  },
  {
   "cell_type": "markdown",
   "metadata": {},
   "source": [
    "### Fetch data and prepare for learning"
   ]
  },
  {
   "cell_type": "code",
   "execution_count": 2,
   "metadata": {},
   "outputs": [],
   "source": [
    "# The dataset can be provided upon request\n",
    "df = pd.read_csv(\"frikk_eirik_dataset.csv\")"
   ]
  },
  {
   "cell_type": "code",
   "execution_count": 3,
   "metadata": {
    "scrolled": true
   },
   "outputs": [
    {
     "data": {
      "text/html": [
       "<div>\n",
       "<style scoped>\n",
       "    .dataframe tbody tr th:only-of-type {\n",
       "        vertical-align: middle;\n",
       "    }\n",
       "\n",
       "    .dataframe tbody tr th {\n",
       "        vertical-align: top;\n",
       "    }\n",
       "\n",
       "    .dataframe thead th {\n",
       "        text-align: right;\n",
       "    }\n",
       "</style>\n",
       "<table border=\"1\" class=\"dataframe\">\n",
       "  <thead>\n",
       "    <tr style=\"text-align: right;\">\n",
       "      <th></th>\n",
       "      <th>username</th>\n",
       "      <th>display_name</th>\n",
       "      <th>text_document</th>\n",
       "      <th>user_created_at</th>\n",
       "      <th>bio</th>\n",
       "      <th>location</th>\n",
       "      <th>target</th>\n",
       "    </tr>\n",
       "  </thead>\n",
       "  <tbody>\n",
       "    <tr>\n",
       "      <th>0</th>\n",
       "      <td>00110z</td>\n",
       "      <td>caged</td>\n",
       "      <td>MENTION MENTION yet we do its sad what were do...</td>\n",
       "      <td>2017-09-14 07:04:22</td>\n",
       "      <td>losing fat no matter what gw lighter than yest...</td>\n",
       "      <td>NaN</td>\n",
       "      <td>pro_ed</td>\n",
       "    </tr>\n",
       "    <tr>\n",
       "      <th>1</th>\n",
       "      <td>0Riles</td>\n",
       "      <td>rilès EMOJIHourglassWithFlowingSand</td>\n",
       "      <td>you want to go but dont want to stay you want ...</td>\n",
       "      <td>2014-03-24 22:21:03</td>\n",
       "      <td>hypsibius dujardini URL    mgmtbookingMENTION ...</td>\n",
       "      <td>NaN</td>\n",
       "      <td>unrelated</td>\n",
       "    </tr>\n",
       "    <tr>\n",
       "      <th>2</th>\n",
       "      <td>0_pluto_0</td>\n",
       "      <td>EMOJIGlowingStar nessa EMOJIGlowingStar</td>\n",
       "      <td>MENTION you deserve an amazing sleep and sweet...</td>\n",
       "      <td>2017-09-02 04:21:15</td>\n",
       "      <td>my multifandom ass cant have a specific fandom...</td>\n",
       "      <td>Probably Youtube</td>\n",
       "      <td>unrelated</td>\n",
       "    </tr>\n",
       "    <tr>\n",
       "      <th>3</th>\n",
       "      <td>0bessivley_thin</td>\n",
       "      <td>EMOJIRose  no one  EMOJIRose</td>\n",
       "      <td>rt MENTION i like a girl that can eat  no you ...</td>\n",
       "      <td>2017-07-27 00:07:26</td>\n",
       "      <td>sw lbs cw  gw  gw  gw  ugw  avi is not me</td>\n",
       "      <td>Washington USA</td>\n",
       "      <td>pro_ed</td>\n",
       "    </tr>\n",
       "    <tr>\n",
       "      <th>4</th>\n",
       "      <td>0hskinnylove</td>\n",
       "      <td>EMOJIUnfilledHeart</td>\n",
       "      <td>MENTION i think i have to have grapefruit cos ...</td>\n",
       "      <td>2013-08-19 09:28:04</td>\n",
       "      <td>currently self destructing</td>\n",
       "      <td>NaN</td>\n",
       "      <td>pro_ed</td>\n",
       "    </tr>\n",
       "  </tbody>\n",
       "</table>\n",
       "</div>"
      ],
      "text/plain": [
       "          username                               display_name  \\\n",
       "0           00110z                                      caged   \n",
       "1           0Riles       rilès EMOJIHourglassWithFlowingSand    \n",
       "2        0_pluto_0   EMOJIGlowingStar nessa EMOJIGlowingStar    \n",
       "3  0bessivley_thin              EMOJIRose  no one  EMOJIRose    \n",
       "4     0hskinnylove                        EMOJIUnfilledHeart    \n",
       "\n",
       "                                       text_document      user_created_at  \\\n",
       "0  MENTION MENTION yet we do its sad what were do...  2017-09-14 07:04:22   \n",
       "1  you want to go but dont want to stay you want ...  2014-03-24 22:21:03   \n",
       "2  MENTION you deserve an amazing sleep and sweet...  2017-09-02 04:21:15   \n",
       "3  rt MENTION i like a girl that can eat  no you ...  2017-07-27 00:07:26   \n",
       "4  MENTION i think i have to have grapefruit cos ...  2013-08-19 09:28:04   \n",
       "\n",
       "                                                 bio          location  \\\n",
       "0  losing fat no matter what gw lighter than yest...               NaN   \n",
       "1  hypsibius dujardini URL    mgmtbookingMENTION ...               NaN   \n",
       "2  my multifandom ass cant have a specific fandom...  Probably Youtube   \n",
       "3          sw lbs cw  gw  gw  gw  ugw  avi is not me    Washington USA   \n",
       "4                         currently self destructing               NaN   \n",
       "\n",
       "      target  \n",
       "0     pro_ed  \n",
       "1  unrelated  \n",
       "2  unrelated  \n",
       "3     pro_ed  \n",
       "4     pro_ed  "
      ]
     },
     "execution_count": 3,
     "metadata": {},
     "output_type": "execute_result"
    }
   ],
   "source": [
    "df.head()"
   ]
  },
  {
   "cell_type": "code",
   "execution_count": 4,
   "metadata": {
    "scrolled": false
   },
   "outputs": [
    {
     "data": {
      "text/plain": [
       "unrelated       0.565064\n",
       "pro_ed          0.336020\n",
       "pro_recovery    0.098916\n",
       "Name: target, dtype: float64"
      ]
     },
     "execution_count": 4,
     "metadata": {},
     "output_type": "execute_result"
    },
    {
     "data": {
      "image/png": "[encoded data removed]",
      "text/plain": [
       "<Figure size 432x288 with 1 Axes>"
      ]
     },
     "metadata": {
      "needs_background": "light"
     },
     "output_type": "display_data"
    }
   ],
   "source": [
    "# Check distribution of target variable\n",
    "target_value_percentage = df[\"target\"].value_counts() / len(df)\n",
    "\n",
    "# Plot count of values in target-column\n",
    "sns.barplot(x=target_value_percentage.index, y=target_value_percentage.values)\n",
    "plt.title(\"Target percentages\")\n",
    "plt.ylabel(\"Percentage\")\n",
    "plt.xlabel(\"Target value\")\n",
    "\n",
    "target_value_percentage"
   ]
  },
  {
   "cell_type": "markdown",
   "metadata": {},
   "source": [
    "We see that the three classes are highly unbalanced"
   ]
  },
  {
   "cell_type": "code",
   "execution_count": 6,
   "metadata": {},
   "outputs": [],
   "source": [
    "# For this experiment, only the text-documents are used as features\n",
    "X, y = df['text_document'], df[\"target\"]"
   ]
  },
  {
   "cell_type": "code",
   "execution_count": 23,
   "metadata": {},
   "outputs": [
    {
     "data": {
      "text/plain": [
       "'MENTION MENTION yet we do its sad what were doing to our body despite its continuous work damn rt MENTION resisting food makes me feel strong they dim the blue lightto orange your screen emits and it keeps your melatonin production on track friends  drama so ill just be a coward and stay at home go me rt MENTION i love deleting things tweets emails feelings i found those raw vegan coconut bites and theyre amazing even though theyre kinda expensive there are no nutrient value chart on the she doesnt know my calorie intake if she did shed give me so much shit rt MENTION stop reconnecting with toxic people from your past because youre lonely focus on getting better and attracting better MENTION best of luck to you on that meeting  EMOJIFourLeafClover  MENTION in the past id thought im wasting the food when im throwing it away and its true but if we dont it  URL rt MENTION i cant wait to post my before and after pictures but first i have to get after picture ready rt MENTION me in the future URL i use kgs btw but ill convert them just in case im 575 kgs now and 162 cms which is 126 lbs and 53 lets begin MENTION  you are alone with your ed i hate the feeling but its okay well undo it URL roommate hey taste test this meal i cooked holds out a tiny amount my brain what wait wat how many calories me sure gains next day MENTION personal experience if its in the house im tempted to eat it if its in the bin then were clear i feel accomplished bc i didnt buy any junk food from the store today but i purged i hadnt purged in 3 days new school year starts tomorrow i know i will fail again i just know it MENTION this made me cheer up as well ahhh happy for youuu EMOJICherryBlossom  EMOJIRose  EMOJIFourLeafClover  im so anxious fuck it makes me want to binge in a corner and cry like a fucking coward fuck MENTION you should be then rooting for you lt3 i suck at twitter but lets see ill start a weight check thread here i need a clear mind to calm down to think without interruptions i will go back tomorrow plan keep fasting until after i come home at 6 pm idk if i can do it ill be fasting 24 hours by then MENTION not keepig any binge food around really helps MENTION you look great congratz on your weightloss  EMOJIBouquet  EMOJICherryBlossom  MENTION i did the same we need to stop doing this but do you also want to binge after purging it happens to me all the time remember this please binging thinspo forgive yourself  credits to thinagedream on tumblr URL MENTION times like these i always think its gonna pass just like every time i felt nervous about an event p  URL MENTION dont regret it please you needed the binge and did it its okay youll try not to do it next time omfg so much anxiety URL i also wanna do  skinny4xmas  i guess i missed the regs but its ok ill still follow the lists also i realised eating in front of pc makes me binge more bc i forget im eatingtasting while being focused on whats on the screen my one and only thinspo is kota bby   URL rt MENTION rt this if you promise not to binge until the end of the month EMOJICherryBlossom   we can do this  EMOJISparkles  URL im transitioning to vegan btw my only intake of animal products is from junk food and that comes from whey powder i shouldnt have but i weighed myself before bed 54 fuck though i ate over 1k today MENTION MENTION but that top tho omg  EMOJIRevolvingHeart  EMOJIBlueHeart  MENTION MENTION MENTION amd then theyre all calculated for a daily 2000 kcal intake idk what that changes though seriously why is this relevant URL ive been eating too much lately i dont know why but i must stop and i believe i will its always hard stopping a binge MENTION i gained weight just by looking at this rt MENTION fool me once shame on you fool me twice shame on me fool me 1643 times you must be my ex boyfriend MENTION my roommate has been doing it for a few weeks now she says the first week was very hard for her but  URL idk how to explain that bit butbasically yeah MENTION good luck  EMOJITwoHearts  rt MENTION who else still isnt at their goal weight from 10 months ago but its ok i needed that i needed that its okay MENTION MENTION so prettyyyy  EMOJIRevolvingHeart  hopefully this will prevent me thinkig wildly about food all the time bc a plan will tell my brain that its already taken care of i cooked them all and added some saltampdried red pepper low calories for a healthy meal lowcalrecipe URL MENTION anyway i hope it works out for you if you decide to start best wishes EMOJIHibiscus  MENTION idk about this but please dont overdo it as theres something called water intoxication and it c  URL MENTION i hate this so much its the reason i cant stand up for myself most of the time i ate 500 calories worth of cookies today still im hopeful bc i stopped myself from eating the whole package around 2k kcal rt MENTION my brother MENTION youll recover because i will too praying for you to get well soon 俺も回復するから、マンソンも。。 URL rt MENTION also please remember restricting a lot binging fasting  an even bigger binge 539kgs 1188lbs i hope my scale is not deceiving me i dont see shit in the mirror today my friend and i cooked dinner together when it was done she asked whether i was gonna eat with her and i could only say hahhah later MENTION damn i understand this is there a way you can make them not to if they persist at the very least  URL im at my lw nowadays and i ask myself one thing how tf did i go out weighing more than what i do now im still too much off to threadmill and music world  EMOJIHibiscus  538kgs i knew it because i ate too much yesterday rt MENTION i love busy days bc its so much easier to skip meals rt MENTION hourly thinspo thinspo  EMOJISparkles   hands URL i will plan what ill eat from now on i will write it down with calories and maybe macros MENTION psure this is because your mind is occupied by schoolsocialisingclasses but when at home you are   URL MENTION hopefully she says shes never tired too but her calorie intake is around 152k so maybe thats  URL i wish one day weightloss URL 526 kgs  1159 lbs  EMOJIRevolvingHeart  goal weight1 reached even though i seriously see no difference still i wont let this make me let go of my will rt MENTION binging on food you dont even like  binging when you arent even hungry  a deadly combination URL rt MENTION everyday is an opportunity to fix some shit u messed up  mess ups are a moment quitting is forever  be kind to urself i love the feeling of an empty stomach MENTION you look great lt3 and i love the hair melatonin is a hormone that helps you control your sleep and wake cycles ok twitter im here to lose as much weight as i can as much as i feel comfortable i play dirty but ill manage 536 still but will gain tomorrow cuz i binged man happiness is all about achievements if you keep failing you just spiral into depression if you have problems sleeping at night try using the program named flux on windows or twilight on android goodnight on iphone i ate breakfast a few mins ago boiled broccoli chickpeas sweet peas some flaxseeds chia seeds but i will start 36hours water fasting MENTION why is mike so precious  EMOJICryingFace  EMOJICryingFace  wish he had a social meda acc MENTION be safe please MENTION this is an extreme condition but still article about this just in case URL 2  URL cw 559 kgs 1232 lbs  i ate around 800 calories but i purged who the hell eats only one tablespoon of peanut butter rt MENTION my stomach im hungry  me then eat the fat thats already in my body MENTION sameee i had the 500 cal dessert instead of a nice huge bowl of 200 cal veggies  EMOJILoudlyCrytingFace  EMOJILoudlyCrytingFace  MENTION MENTION she isss i also loved her voice too aww its soft and soothing hopefully she upl  URL MENTION coffee helps me a lot to be honest MENTION how are you now i wish i could call my mom as well but she doesnt know im missing classes at lea  URL if i lose some tomorrow morning ill post a mirror bc or a scale check i havent eaten  for 4 hours and wont eat until mornin  EMOJISauropod  love you to the bones URL i deleted instagram app bc my feed was full of food vegan but still food its triggering and reminds me of food MENTION wont bread make you more hungrycrave for a binge though asking because it always has such an effect on me MENTION MENTION shes suuper cute ahhhh i love seeing videos like these from vegans  EMOJIRevolvingHeart  EMOJIGrowingHeart  thanks for sharing forgot to write  547kgs  1205lbs MENTION i binge on such cals as well but i also call 1k or slightly lesser a binge so long as i did it without control and any need whenever i eat junkfood i feel the need to purge like my stomach just no longer accepts it or its just used to purging  EMOJIHibiscus  imagine having one of these and looking at it every time you feel down idk it would help me brighten up at leas  URL i binged on the rest of the cookies around 15k calories   ill burn half of it and wont eat anything else today rt MENTION of course youre gonna gain weight if you keep binging you have no excuse so stop it and control yourself package so i emailed the company to ask hopefully they will answer 50gr per package and if its actually low cal ill keep buying in love w thin hands thinspo URL MENTION i get my meat and dairy from a farm that my unclegranpasomeonewhodoesntexist owns so its hooomaaaine MENTION im sure i wouldnt have gained so much weight had i not developed an ed its all that addiction to food MENTION exactly why does it have to be like that omfg one would think puking and all that nasty business would  URL i ate so much today  fasting tomorrow rt MENTION gonna go back to eating one meal a day i lost 7lbs in a week from just doing that and if i stick to eat again ill lose mor  MENTION theres also shut tf up youre ugly ill keep to my promise i hopefully do and keep being vegan i just hope cw 554kgs  1221 lbs MENTION seems like its going awesome welldone 536 kgs agaiiin damn'"
      ]
     },
     "execution_count": 23,
     "metadata": {},
     "output_type": "execute_result"
    }
   ],
   "source": [
    "X[0]"
   ]
  },
  {
   "cell_type": "code",
   "execution_count": 20,
   "metadata": {},
   "outputs": [],
   "source": [
    "# Create vectors based on unigrams and TF-IDF score\n",
    "# Use built-in English stopwords\n",
    "unigram_vectorizer = TfidfVectorizer(ngram_range=(1, 1), stop_words='english', max_features=1200)\n",
    "unigram_x = unigram_vectorizer.fit_transform(X)"
   ]
  },
  {
   "cell_type": "code",
   "execution_count": 21,
   "metadata": {},
   "outputs": [
    {
     "name": "stdout",
     "output_type": "stream",
     "text": [
      "dict_keys(['approvesudol', 'wedoact', 'bodyimage', 'skinny4xmas', 'edrecovery', 'brexit', 'gop', 'tix', 'mentalhealth', 'bonespo', 'eatingdisorders', 'emojisignofthehorns', 'emojirofl', 'leadership', 'emojiunfilledheart', 'eatingdisorder', 'emojidancer', 'giveaway', 'recipe', 'comedy'])\n"
     ]
    }
   ],
   "source": [
    "# Display top-20 tf-idf words\n",
    "feature_array = unigram_vectorizer.get_feature_names()\n",
    "tfidf_sorting = unigram_vectorizer.idf_\n",
    "\n",
    "tuples = list(zip(feature_array, tfidf_sorting))\n",
    "sorted_unigrams = sorted(tuples, key=lambda x: x[1], reverse=True)\n",
    "print(dict(sorted_unigrams[:20]).keys())"
   ]
  },
  {
   "cell_type": "code",
   "execution_count": 30,
   "metadata": {},
   "outputs": [],
   "source": [
    "# Split the data into train and test set, based on a 80/20 stratified split\n",
    "X_train, X_test, y_train, y_test = train_test_split(unigram_x.toarray(), y, train_size=0.8, random_state=42, stratify=df['target'])"
   ]
  },
  {
   "cell_type": "code",
   "execution_count": 31,
   "metadata": {},
   "outputs": [],
   "source": [
    "# Change each label into numerical class labels for both train and test labels\n",
    "labels_dict = {'unrelated': 0, 'pro_ed': 1, 'pro_recovery': 2}\n",
    "\n",
    "y_train = y_train.values.tolist()\n",
    "for i in range(len(y_train)):\n",
    "    y_train[i] = labels_dict[y_train[i]]\n",
    "    \n",
    "y_test = y_test.values.tolist()\n",
    "for i in range(len(y_test)):\n",
    "    y_test[i] = labels_dict[y_test[i]]"
   ]
  },
  {
   "cell_type": "code",
   "execution_count": 32,
   "metadata": {},
   "outputs": [],
   "source": [
    "# Import the SVM classifier\n",
    "clf_svm = svm.LinearSVC()"
   ]
  },
  {
   "cell_type": "code",
   "execution_count": 33,
   "metadata": {},
   "outputs": [
    {
     "data": {
      "text/plain": [
       "LinearSVC()"
      ]
     },
     "execution_count": 33,
     "metadata": {},
     "output_type": "execute_result"
    }
   ],
   "source": [
    "# Fit the classifier on the training data\n",
    "clf_svm.fit(X_train, y_train)"
   ]
  },
  {
   "cell_type": "code",
   "execution_count": 34,
   "metadata": {},
   "outputs": [],
   "source": [
    "# Predict on test set\n",
    "preds_unigram = clf_svm.predict(X_test)"
   ]
  },
  {
   "cell_type": "code",
   "execution_count": 35,
   "metadata": {
    "scrolled": true
   },
   "outputs": [
    {
     "name": "stdout",
     "output_type": "stream",
     "text": [
      "              precision    recall  f1-score   support\n",
      "\n",
      "           0      0.968     0.991     0.979       771\n",
      "           1      0.989     0.991     0.990       459\n",
      "           2      0.966     0.830     0.892       135\n",
      "\n",
      "    accuracy                          0.975      1365\n",
      "   macro avg      0.974     0.937     0.954      1365\n",
      "weighted avg      0.975     0.975     0.974      1365\n",
      "\n"
     ]
    }
   ],
   "source": [
    "# Show metrics for the classification\n",
    "c_report = classification_report(y_test, preds_unigram, digits=3)\n",
    "print(c_report)"
   ]
  },
  {
   "cell_type": "code",
   "execution_count": 36,
   "metadata": {},
   "outputs": [
    {
     "data": {
      "text/plain": [
       "<sklearn.metrics._plot.confusion_matrix.ConfusionMatrixDisplay at 0x1cd5e78b7f0>"
      ]
     },
     "execution_count": 36,
     "metadata": {},
     "output_type": "execute_result"
    },
    {
     "data": {
      "image/png": "[encoded data removed]",
      "text/plain": [
       "<Figure size 432x288 with 2 Axes>"
      ]
     },
     "metadata": {
      "needs_background": "light"
     },
     "output_type": "display_data"
    }
   ],
   "source": [
    "# Show confusion matrix for SVM classifier\n",
    "conf_mat = confusion_matrix(y_test, preds_unigram)\n",
    "cmd = ConfusionMatrixDisplay(conf_mat, display_labels=['Unrelated','Pro-ED', 'Pro-recovery'])\n",
    "cmd.plot(cmap='Blues')"
   ]
  }
 ],
 "metadata": {
  "kernelspec": {
   "display_name": "TDT13",
   "language": "python",
   "name": "tdt13"
  },
  "language_info": {
   "codemirror_mode": {
    "name": "ipython",
    "version": 3
   },
   "file_extension": ".py",
   "mimetype": "text/x-python",
   "name": "python",
   "nbconvert_exporter": "python",
   "pygments_lexer": "ipython3",
   "version": "3.8.5"
  }
 },
 "nbformat": 4,
 "nbformat_minor": 4
}
